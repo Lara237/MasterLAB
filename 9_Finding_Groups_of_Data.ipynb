{
  "nbformat": 4,
  "nbformat_minor": 0,
  "metadata": {
    "colab": {
      "name": "9-Finding Groups of Data.ipynb",
      "provenance": [],
      "collapsed_sections": [],
      "toc_visible": true,
      "include_colab_link": true
    },
    "kernelspec": {
      "name": "ir",
      "display_name": "R"
    }
  },
  "cells": [
    {
      "cell_type": "markdown",
      "metadata": {
        "id": "view-in-github",
        "colab_type": "text"
      },
      "source": [
        "<a href=\"https://colab.research.google.com/github/Lara237/MasterLAB/blob/master/9_Finding_Groups_of_Data.ipynb\" target=\"_parent\"><img src=\"https://colab.research.google.com/assets/colab-badge.svg\" alt=\"Open In Colab\"/></a>"
      ]
    },
    {
      "cell_type": "markdown",
      "metadata": {
        "id": "bjV8YWA-Uejz",
        "colab_type": "text"
      },
      "source": [
        "#Finding Groups of Data – Clustering with k-means"
      ]
    },
    {
      "cell_type": "markdown",
      "metadata": {
        "id": "9T4emnXDUoeF",
        "colab_type": "text"
      },
      "source": [
        "This notebook incorporates the code samples found in chapter 9 of [Machine Learning with R](https://www.amazon.co.uk/Machine-Learning-techniques-predictive-modeling/dp/1788295862/ref=dp_ob_title_bk). The original chapter presents more content and background information as this notebook only intends to present source code and related comments."
      ]
    },
    {
      "cell_type": "markdown",
      "metadata": {
        "id": "rRyyY07zg8My",
        "colab_type": "text"
      },
      "source": [
        "This notebook intends to explain clustering using example. First of all it should be noticed that the goal of clustering is to build new data based on relationships in the dataset itself. It provides you with the information which data points from the dataset are related to each other and can therefore form a group of similar data points. But let's start with the example now:\n",
        "It is no secret that teenagers uses social media these days to keep in touch, interact and share their preferences. The fact that companies use these information for their online marketing is also common knowledge in this century. And why they are using it? Right, because they can define different target groups, select their individual target groups and create individualized marketing content by processing the information found on the social media accounts. The following example is exactly about this idea to cluster students into groups based on their social media account.\n"
      ]
    },
    {
      "cell_type": "markdown",
      "metadata": {
        "id": "V097YUtQuSgZ",
        "colab_type": "text"
      },
      "source": [
        "The dataset from 2006, which is used for this example, contains 30,000 social-network-service profiles of US high school students. Because this social-network-service was widely used among students in the US in 2006 and because it contains profiles across four high school graduation years, it can be reasonably assumed that it represents American teenagers and adolescents in 2006. The dataset includes the age, gender, year of graduation and amount of social-network friends as well as the information how many times a word out a preselected words sample occurred. This word sample consists of 36 words, which aims to represent five different sections of interest: fashion,  extracurricular activities, romance, religion, antisocial behavior. Therefore there are 30,000 data points and 40 variables in the dataset."
      ]
    },
    {
      "cell_type": "code",
      "metadata": {
        "id": "ZAiApCDS2Tgr",
        "colab_type": "code",
        "outputId": "9816fb66-6440-4932-fec4-8a1827c85bec",
        "colab": {
          "base_uri": "https://localhost:8080/",
          "height": 728
        }
      },
      "source": [
        "teens <- read.csv(\"Chapter09_snsdata.csv\")\n",
        "str(teens)"
      ],
      "execution_count": 8,
      "outputs": [
        {
          "output_type": "stream",
          "text": [
            "'data.frame':\t30000 obs. of  40 variables:\n",
            " $ gradyear    : int  2006 2006 2006 2006 2006 2006 2006 2006 2006 2006 ...\n",
            " $ gender      : Factor w/ 2 levels \"F\",\"M\": 2 1 2 1 NA 1 1 2 1 1 ...\n",
            " $ age         : num  19 18.8 18.3 18.9 19 ...\n",
            " $ friends     : int  7 0 69 0 10 142 72 17 52 39 ...\n",
            " $ basketball  : int  0 0 0 0 0 0 0 0 0 0 ...\n",
            " $ football    : int  0 1 1 0 0 0 0 0 0 0 ...\n",
            " $ soccer      : int  0 0 0 0 0 0 0 0 0 0 ...\n",
            " $ softball    : int  0 0 0 0 0 0 0 1 0 0 ...\n",
            " $ volleyball  : int  0 0 0 0 0 0 0 0 0 0 ...\n",
            " $ swimming    : int  0 0 0 0 0 0 0 0 0 0 ...\n",
            " $ cheerleading: int  0 0 0 0 0 0 0 0 0 0 ...\n",
            " $ baseball    : int  0 0 0 0 0 0 0 0 0 0 ...\n",
            " $ tennis      : int  0 0 0 0 0 0 0 0 0 0 ...\n",
            " $ sports      : int  0 0 0 0 0 0 0 0 0 0 ...\n",
            " $ cute        : int  0 1 0 1 0 0 0 0 0 1 ...\n",
            " $ sex         : int  0 0 0 0 1 1 0 2 0 0 ...\n",
            " $ sexy        : int  0 0 0 0 0 0 0 1 0 0 ...\n",
            " $ hot         : int  0 0 0 0 0 0 0 0 0 1 ...\n",
            " $ kissed      : int  0 0 0 0 5 0 0 0 0 0 ...\n",
            " $ dance       : int  1 0 0 0 1 0 0 0 0 0 ...\n",
            " $ band        : int  0 0 2 0 1 0 1 0 0 0 ...\n",
            " $ marching    : int  0 0 0 0 0 1 1 0 0 0 ...\n",
            " $ music       : int  0 2 1 0 3 2 0 1 0 1 ...\n",
            " $ rock        : int  0 2 0 1 0 0 0 1 0 1 ...\n",
            " $ god         : int  0 1 0 0 1 0 0 0 0 6 ...\n",
            " $ church      : int  0 0 0 0 0 0 0 0 0 0 ...\n",
            " $ jesus       : int  0 0 0 0 0 0 0 0 0 2 ...\n",
            " $ bible       : int  0 0 0 0 0 0 0 0 0 0 ...\n",
            " $ hair        : int  0 6 0 0 1 0 0 0 0 1 ...\n",
            " $ dress       : int  0 4 0 0 0 1 0 0 0 0 ...\n",
            " $ blonde      : int  0 0 0 0 0 0 0 0 0 0 ...\n",
            " $ mall        : int  0 1 0 0 0 0 2 0 0 0 ...\n",
            " $ shopping    : int  0 0 0 0 2 1 0 0 0 1 ...\n",
            " $ clothes     : int  0 0 0 0 0 0 0 0 0 0 ...\n",
            " $ hollister   : int  0 0 0 0 0 0 2 0 0 0 ...\n",
            " $ abercrombie : int  0 0 0 0 0 0 0 0 0 0 ...\n",
            " $ die         : int  0 0 0 0 0 0 0 0 0 0 ...\n",
            " $ death       : int  0 0 1 0 0 0 0 0 0 0 ...\n",
            " $ drunk       : int  0 0 0 0 1 1 0 0 0 0 ...\n",
            " $ drugs       : int  0 0 0 0 1 0 0 0 0 0 ...\n"
          ],
          "name": "stdout"
        }
      ]
    },
    {
      "cell_type": "markdown",
      "metadata": {
        "id": "nBrDsmu74CeL",
        "colab_type": "text"
      },
      "source": [
        "As you may have noticed, there is a \"NA\" value in the gender variable, which indicates a missing value. As this can affect the outcome of the analysis it has to be checked - using the additional parameter *useNA=\"ifany\"* - for the amount of NAs in the prevailing dataset."
      ]
    },
    {
      "cell_type": "code",
      "metadata": {
        "id": "cUb5MMTJ5IOL",
        "colab_type": "code",
        "outputId": "2eed4f1b-15f6-47c4-8f12-81bac4c41f25",
        "colab": {
          "base_uri": "https://localhost:8080/",
          "height": 121
        }
      },
      "source": [
        "table(teens$gender)\n",
        "table(teens$gender, useNA = \"ifany\")"
      ],
      "execution_count": 0,
      "outputs": [
        {
          "output_type": "display_data",
          "data": {
            "text/plain": [
              "\n",
              "    F     M \n",
              "22054  5222 "
            ]
          },
          "metadata": {
            "tags": []
          }
        },
        {
          "output_type": "display_data",
          "data": {
            "text/plain": [
              "\n",
              "    F     M  <NA> \n",
              "22054  5222  2724 "
            ]
          },
          "metadata": {
            "tags": []
          }
        }
      ]
    },
    {
      "cell_type": "markdown",
      "metadata": {
        "colab_type": "text",
        "id": "GDZV494w62CK"
      },
      "source": [
        "By checking the other variables, it can be found that NAs exist also in the *age* variable. Because this variable is numeric, it is necessary to use the *summary()* command to check for the amount of values."
      ]
    },
    {
      "cell_type": "code",
      "metadata": {
        "id": "HZDRUzBk7eC_",
        "colab_type": "code",
        "outputId": "bb51619c-ece8-4138-80d5-624b8a8b3e3e",
        "colab": {
          "base_uri": "https://localhost:8080/",
          "height": 52
        }
      },
      "source": [
        "summary(teens$age)"
      ],
      "execution_count": 0,
      "outputs": [
        {
          "output_type": "display_data",
          "data": {
            "text/plain": [
              "   Min. 1st Qu.  Median    Mean 3rd Qu.    Max.    NA's \n",
              "  3.086  16.312  17.287  17.994  18.259 106.927    5086 "
            ]
          },
          "metadata": {
            "tags": []
          }
        }
      ]
    },
    {
      "cell_type": "markdown",
      "metadata": {
        "id": "U_DoQtgL7txS",
        "colab_type": "text"
      },
      "source": [
        "It can not only be seen from this summary that a high amount of profiles (~ 17 %) lack of information of age, but also that the dataset includes unreasonable age values indicated by the *Min.* and *Max.* values in the summary table. To achieve meaningful outputs such extreme values have to be removed from the dataset. Therefore, any value for the *age* variable, which is less than 13 or higher than 20 receives the NA value using the *ifelse ()* function. This provides a more senseful distribution as can be seen after performing the *summary()* function again."
      ]
    },
    {
      "cell_type": "code",
      "metadata": {
        "id": "2pU62wYr9e_m",
        "colab_type": "code",
        "colab": {}
      },
      "source": [
        "teens$age <- ifelse(teens$age >= 13 & teens$age < 20,\n",
        "                     teens$age, NA)"
      ],
      "execution_count": 0,
      "outputs": []
    },
    {
      "cell_type": "code",
      "metadata": {
        "id": "IpB3sWtB9-4T",
        "colab_type": "code",
        "outputId": "d53187d6-292a-47c8-c0ac-65edc64ddd60",
        "colab": {
          "base_uri": "https://localhost:8080/",
          "height": 52
        }
      },
      "source": [
        "summary(teens$age)"
      ],
      "execution_count": 0,
      "outputs": [
        {
          "output_type": "display_data",
          "data": {
            "text/plain": [
              "   Min. 1st Qu.  Median    Mean 3rd Qu.    Max.    NA's \n",
              "  13.03   16.30   17.27   17.25   18.22   20.00    5523 "
            ]
          },
          "metadata": {
            "tags": []
          }
        }
      ]
    },
    {
      "cell_type": "markdown",
      "metadata": {
        "id": "5X7ZFj2HB-72",
        "colab_type": "text"
      },
      "source": [
        "By excluding all of the missing values, a large amount of data points would be excluded from the dataset, which could again falsify the outcome. The datapoints with missing values could for example represent a specific type of students. Therefore, dummy variables are created representing the groups with missing age or gender. This is done using separate binary (1 or 0) valued dummy variables and the *is.na()* function, which tests if the value is NA."
      ]
    },
    {
      "cell_type": "code",
      "metadata": {
        "id": "_x02DfUaD3e5",
        "colab_type": "code",
        "colab": {}
      },
      "source": [
        "teens$female <- ifelse(teens$gender == \"F\" &\n",
        "                         !is.na(teens$gender), 1, 0)\n",
        "teens$no_gender <- ifelse(is.na(teens$gender), 1, 0)"
      ],
      "execution_count": 0,
      "outputs": []
    },
    {
      "cell_type": "markdown",
      "metadata": {
        "id": "Tv66UekqD-1J",
        "colab_type": "text"
      },
      "source": [
        "The first line allocates the value 1 to teens_female if the gender is \"F\" and not equal to NA. Elsewhere it allocates the value 0. The second line assigns the value 1 to teens$no_gender if the gender is missing. Observing the following tables it can be seen that the dummy variables do their work as they do match."
      ]
    },
    {
      "cell_type": "code",
      "metadata": {
        "id": "-1JGjdewF9IX",
        "colab_type": "code",
        "outputId": "1243f46e-3a3c-4141-ba1f-28c90e7c4f38",
        "colab": {
          "base_uri": "https://localhost:8080/",
          "height": 173
        }
      },
      "source": [
        "table(teens$gender, useNA = \"ifany\")\n",
        "table(teens$female, useNA = \"ifany\")\n",
        "table(teens$no_gender, useNA = \"ifany\")"
      ],
      "execution_count": 0,
      "outputs": [
        {
          "output_type": "display_data",
          "data": {
            "text/plain": [
              "\n",
              "    F     M  <NA> \n",
              "22054  5222  2724 "
            ]
          },
          "metadata": {
            "tags": []
          }
        },
        {
          "output_type": "display_data",
          "data": {
            "text/plain": [
              "\n",
              "    0     1 \n",
              " 7946 22054 "
            ]
          },
          "metadata": {
            "tags": []
          }
        },
        {
          "output_type": "display_data",
          "data": {
            "text/plain": [
              "\n",
              "    0     1 \n",
              "27276  2724 "
            ]
          },
          "metadata": {
            "tags": []
          }
        }
      ]
    },
    {
      "cell_type": "markdown",
      "metadata": {
        "id": "JxFXFtMAGMoH",
        "colab_type": "text"
      },
      "source": [
        "To remove the missing *age* values a imputation strategy is used, which intends to guess the true values by using the information of the year of graduation. To calculate the average age of the students, the *mean()* function with an additional parameter to account for NA values is used."
      ]
    },
    {
      "cell_type": "code",
      "metadata": {
        "id": "4AaXfmF1HMMw",
        "colab_type": "code",
        "outputId": "d1c2e38e-1a48-4f96-a70b-a6fd60b0ad64",
        "colab": {
          "base_uri": "https://localhost:8080/",
          "height": 195
        }
      },
      "source": [
        "mean(teens$age)\n",
        "mean(teens$age, na.rm = TRUE)\n",
        "aggregate(data = teens, age ~ gradyear, mean, na.rm = TRUE)"
      ],
      "execution_count": 0,
      "outputs": [
        {
          "output_type": "display_data",
          "data": {
            "text/plain": [
              "[1] NA"
            ],
            "text/latex": "<NA>",
            "text/markdown": "&lt;NA&gt;",
            "text/html": [
              "&lt;NA&gt;"
            ]
          },
          "metadata": {
            "tags": []
          }
        },
        {
          "output_type": "display_data",
          "data": {
            "text/plain": [
              "[1] 17.25243"
            ],
            "text/latex": "17.2524289332843",
            "text/markdown": "17.2524289332843",
            "text/html": [
              "17.2524289332843"
            ]
          },
          "metadata": {
            "tags": []
          }
        },
        {
          "output_type": "display_data",
          "data": {
            "text/plain": [
              "  gradyear age     \n",
              "1 2006     18.65586\n",
              "2 2007     17.70617\n",
              "3 2008     16.76770\n",
              "4 2009     15.81957"
            ],
            "text/latex": "A data.frame: 4 × 2\n\\begin{tabular}{ll}\n gradyear & age\\\\\n <int> & <dbl>\\\\\n\\hline\n\t 2006 & 18.65586\\\\\n\t 2007 & 17.70617\\\\\n\t 2008 & 16.76770\\\\\n\t 2009 & 15.81957\\\\\n\\end{tabular}\n",
            "text/markdown": "\nA data.frame: 4 × 2\n\n| gradyear &lt;int&gt; | age &lt;dbl&gt; |\n|---|---|\n| 2006 | 18.65586 |\n| 2007 | 17.70617 |\n| 2008 | 16.76770 |\n| 2009 | 15.81957 |\n\n",
            "text/html": [
              "<table>\n",
              "<caption>A data.frame: 4 × 2</caption>\n",
              "<thead>\n",
              "\t<tr><th scope=col>gradyear</th><th scope=col>age</th></tr>\n",
              "\t<tr><th scope=col>&lt;int&gt;</th><th scope=col>&lt;dbl&gt;</th></tr>\n",
              "</thead>\n",
              "<tbody>\n",
              "\t<tr><td>2006</td><td>18.65586</td></tr>\n",
              "\t<tr><td>2007</td><td>17.70617</td></tr>\n",
              "\t<tr><td>2008</td><td>16.76770</td></tr>\n",
              "\t<tr><td>2009</td><td>15.81957</td></tr>\n",
              "</tbody>\n",
              "</table>\n"
            ]
          },
          "metadata": {
            "tags": []
          }
        }
      ]
    },
    {
      "cell_type": "markdown",
      "metadata": {
        "id": "TyR1UOXZHa_8",
        "colab_type": "text"
      },
      "source": [
        "The last line actually calculates the output (in a data frame) it was aimed for as it depicts the average age for each of the four graduation years. To get the data back in a vector (with the same length of the original vector), the *ave()* function is used. After these means are inserted for the NA values respecting the year of graduation. The summary shows that no more NA values exists in the dataset."
      ]
    },
    {
      "cell_type": "code",
      "metadata": {
        "id": "l4ZR7Q14JRbg",
        "colab_type": "code",
        "outputId": "0e8462a8-0508-4d5f-e3b6-3d5c85093fd6",
        "colab": {
          "base_uri": "https://localhost:8080/",
          "height": 52
        }
      },
      "source": [
        "ave_age <- ave(teens$age, teens$gradyear,\n",
        "                 FUN = function(x) mean(x, na.rm = TRUE))\n",
        "teens$age <- ifelse(is.na(teens$age), ave_age, teens$age)\n",
        "summary(teens$age)"
      ],
      "execution_count": 0,
      "outputs": [
        {
          "output_type": "display_data",
          "data": {
            "text/plain": [
              "   Min. 1st Qu.  Median    Mean 3rd Qu.    Max. \n",
              "  13.03   16.28   17.24   17.24   18.21   20.00 "
            ]
          },
          "metadata": {
            "tags": []
          }
        }
      ]
    },
    {
      "cell_type": "markdown",
      "metadata": {
        "id": "KjU7CyqLJtcb",
        "colab_type": "text"
      },
      "source": [
        "To now cluster the students into groups, the *stats package* and the *kmeans()* function are used. The art is to choose the right combination of data and clusters, which can be a process of trial and error. Firstly, only the 36 (word) features are considered."
      ]
    },
    {
      "cell_type": "code",
      "metadata": {
        "id": "7LJEJLGlKlXD",
        "colab_type": "code",
        "colab": {}
      },
      "source": [
        "interests <- teens[5:40]"
      ],
      "execution_count": 0,
      "outputs": []
    },
    {
      "cell_type": "markdown",
      "metadata": {
        "id": "e_d274x7KsfP",
        "colab_type": "text"
      },
      "source": [
        "Because of the use of distance calculations to cluster the students into groups, the features are normalized in a way that every feature covers the same range. This is done with the *scale()* and *lapply()* functions. Afterwards the correctness of this step can be checked by comparing the summary tables. The newly created data frame should hereby displaying a mean of zero."
      ]
    },
    {
      "cell_type": "code",
      "metadata": {
        "id": "tnDtHQaJMLub",
        "colab_type": "code",
        "outputId": "f08ce9ee-50f3-49ea-8c29-9acc8febb75c",
        "colab": {
          "base_uri": "https://localhost:8080/",
          "height": 87
        }
      },
      "source": [
        "interests_z <- as.data.frame(lapply(interests, scale))\n",
        "summary(interests$basketball)\n",
        "summary(interests_z$basketball)"
      ],
      "execution_count": 0,
      "outputs": [
        {
          "output_type": "display_data",
          "data": {
            "text/plain": [
              "   Min. 1st Qu.  Median    Mean 3rd Qu.    Max. \n",
              " 0.0000  0.0000  0.0000  0.2673  0.0000 24.0000 "
            ]
          },
          "metadata": {
            "tags": []
          }
        },
        {
          "output_type": "display_data",
          "data": {
            "text/plain": [
              "   Min. 1st Qu.  Median    Mean 3rd Qu.    Max. \n",
              "-0.3322 -0.3322 -0.3322  0.0000 -0.3322 29.4923 "
            ]
          },
          "metadata": {
            "tags": []
          }
        }
      ]
    },
    {
      "cell_type": "markdown",
      "metadata": {
        "id": "foSZga9UMoPj",
        "colab_type": "text"
      },
      "source": [
        "If the normalized value is less/more than zero, the student has fewer/more-than-average entries of basketball in their account.\n",
        "Next, the amount of clusters (k) we are using has to be determined. Choosing many will have a high homogeneity but risks an overfit in the data, choosing too few will result in heterogeneous groups. The amount of clusters should be varied for checking how this will affect the outcome. Here there are five clusters defined as the starting value for k.\n",
        "The *kmeans()* function mentioned above is used on the normalized interests data frame. Because this function has random starting points, the *set.seed()* function is needed in addition to make sure that the results fit with the later following outputs."
      ]
    },
    {
      "cell_type": "code",
      "metadata": {
        "id": "nZuau6jYPzKa",
        "colab_type": "code",
        "outputId": "a97508e8-2948-4fa8-b66e-a190495a3957",
        "colab": {
          "base_uri": "https://localhost:8080/",
          "height": 35
        }
      },
      "source": [
        "set.seed(2345)\n",
        "teen_clusters <- kmeans(interests_z, 5)\n",
        "teen_clusters$size"
      ],
      "execution_count": 0,
      "outputs": [
        {
          "output_type": "display_data",
          "data": {
            "text/plain": [
              "[1]  1038   601  4066  2696 21599"
            ],
            "text/latex": "\\begin{enumerate*}\n\\item 1038\n\\item 601\n\\item 4066\n\\item 2696\n\\item 21599\n\\end{enumerate*}\n",
            "text/markdown": "1. 1038\n2. 601\n3. 4066\n4. 2696\n5. 21599\n\n\n",
            "text/html": [
              "<style>\n",
              ".list-inline {list-style: none; margin:0; padding: 0}\n",
              ".list-inline>li {display: inline-block}\n",
              ".list-inline>li:not(:last-child)::after {content: \"\\00b7\"; padding: 0 .5ex}\n",
              "</style>\n",
              "<ol class=list-inline><li>1038</li><li>601</li><li>4066</li><li>2696</li><li>21599</li></ol>\n"
            ]
          },
          "metadata": {
            "tags": []
          }
        }
      ]
    },
    {
      "cell_type": "markdown",
      "metadata": {
        "id": "73ZU_TYFQZLQ",
        "colab_type": "text"
      },
      "source": [
        "The amount of students allocated in each group can be seen from the last line. If a group is too large or too small, the output is not very useful. In any case the homogeneity of each cluster has to be examined. In other words, the cluster centroids, which are the average positions of all the points in one cluster, have to be studied."
      ]
    },
    {
      "cell_type": "code",
      "metadata": {
        "id": "3Qn8ysEhSN6h",
        "colab_type": "code",
        "outputId": "0a28b29d-5ee9-4581-d36d-c8dd643cf741",
        "colab": {
          "base_uri": "https://localhost:8080/",
          "height": 181
        }
      },
      "source": [
        "teen_clusters$centers"
      ],
      "execution_count": 0,
      "outputs": [
        {
          "output_type": "display_data",
          "data": {
            "text/plain": [
              "  basketball   football    soccer      softball   volleyball  swimming   \n",
              "1  0.362160730  0.37985213  0.13734997  0.1272107  0.09247518  0.26180286\n",
              "2 -0.094426312  0.06691768 -0.09956009 -0.0379725 -0.07286202  0.04578401\n",
              "3  0.003980104  0.09524062  0.05342109 -0.0496864 -0.01459648  0.32944934\n",
              "4  1.372334818  1.19570343  0.55621097  1.1304527  1.07177211  0.08513210\n",
              "5 -0.186822093 -0.18729427 -0.08331351 -0.1368072 -0.13344819 -0.08650052\n",
              "  cheerleading baseball    tennis      sports      ⋯ blonde      mall        \n",
              "1  0.2159945    0.25312305  0.11991682  0.77040675 ⋯  0.36322464  0.622896285\n",
              "2 -0.1070370   -0.11182941  0.04027335 -0.10638613 ⋯ -0.01238629 -0.087713363\n",
              "3  0.5142451   -0.04933628  0.06703386 -0.05435093 ⋯  0.03301526  0.808620531\n",
              "4  0.0400367    1.09279737  0.13887184  1.08316097 ⋯  0.03690938 -0.004723697\n",
              "5 -0.1092056   -0.13616893 -0.03683671 -0.15903307 ⋯ -0.02793327 -0.179127117\n",
              "  shopping    clothes      hollister   abercrombie die          death      \n",
              "1  0.27607550  1.245121599  0.31525537  0.4131560   1.712160983  0.94713629\n",
              "2 -0.03710273 -0.004395251 -0.16788599 -0.1413652   0.008941101  0.05464759\n",
              "3  1.07073115  0.616207360  0.85951603  0.7935060   0.062399295  0.12642222\n",
              "4  0.03497875  0.016201064 -0.08381546 -0.0861708  -0.067312427 -0.01611162\n",
              "5 -0.21816580 -0.177738408 -0.16182051 -0.1545430  -0.085876102 -0.06882571\n",
              "  drunk       drugs      \n",
              "1  1.83371069  2.73878856\n",
              "2 -0.08699556 -0.06414588\n",
              "3  0.03594162 -0.05888141\n",
              "4 -0.06891763 -0.08795059\n",
              "5 -0.08386703 -0.10777278"
            ],
            "text/latex": "A matrix: 5 × 36 of type dbl\n\\begin{tabular}{r|lllllllllllllllllllll}\n  & basketball & football & soccer & softball & volleyball & swimming & cheerleading & baseball & tennis & sports & ⋯ & blonde & mall & shopping & clothes & hollister & abercrombie & die & death & drunk & drugs\\\\\n\\hline\n\t1 &  0.362160730 &  0.37985213 &  0.13734997 &  0.1272107 &  0.09247518 &  0.26180286 &  0.2159945 &  0.25312305 &  0.11991682 &  0.77040675 & ⋯ &  0.36322464 &  0.622896285 &  0.27607550 &  1.245121599 &  0.31525537 &  0.4131560 &  1.712160983 &  0.94713629 &  1.83371069 &  2.73878856\\\\\n\t2 & -0.094426312 &  0.06691768 & -0.09956009 & -0.0379725 & -0.07286202 &  0.04578401 & -0.1070370 & -0.11182941 &  0.04027335 & -0.10638613 & ⋯ & -0.01238629 & -0.087713363 & -0.03710273 & -0.004395251 & -0.16788599 & -0.1413652 &  0.008941101 &  0.05464759 & -0.08699556 & -0.06414588\\\\\n\t3 &  0.003980104 &  0.09524062 &  0.05342109 & -0.0496864 & -0.01459648 &  0.32944934 &  0.5142451 & -0.04933628 &  0.06703386 & -0.05435093 & ⋯ &  0.03301526 &  0.808620531 &  1.07073115 &  0.616207360 &  0.85951603 &  0.7935060 &  0.062399295 &  0.12642222 &  0.03594162 & -0.05888141\\\\\n\t4 &  1.372334818 &  1.19570343 &  0.55621097 &  1.1304527 &  1.07177211 &  0.08513210 &  0.0400367 &  1.09279737 &  0.13887184 &  1.08316097 & ⋯ &  0.03690938 & -0.004723697 &  0.03497875 &  0.016201064 & -0.08381546 & -0.0861708 & -0.067312427 & -0.01611162 & -0.06891763 & -0.08795059\\\\\n\t5 & -0.186822093 & -0.18729427 & -0.08331351 & -0.1368072 & -0.13344819 & -0.08650052 & -0.1092056 & -0.13616893 & -0.03683671 & -0.15903307 & ⋯ & -0.02793327 & -0.179127117 & -0.21816580 & -0.177738408 & -0.16182051 & -0.1545430 & -0.085876102 & -0.06882571 & -0.08386703 & -0.10777278\\\\\n\\end{tabular}\n",
            "text/markdown": "\nA matrix: 5 × 36 of type dbl\n\n| <!--/--> | basketball | football | soccer | softball | volleyball | swimming | cheerleading | baseball | tennis | sports | ⋯ | blonde | mall | shopping | clothes | hollister | abercrombie | die | death | drunk | drugs |\n|---|---|---|---|---|---|---|---|---|---|---|---|---|---|---|---|---|---|---|---|---|---|\n| 1 |  0.362160730 |  0.37985213 |  0.13734997 |  0.1272107 |  0.09247518 |  0.26180286 |  0.2159945 |  0.25312305 |  0.11991682 |  0.77040675 | ⋯ |  0.36322464 |  0.622896285 |  0.27607550 |  1.245121599 |  0.31525537 |  0.4131560 |  1.712160983 |  0.94713629 |  1.83371069 |  2.73878856 |\n| 2 | -0.094426312 |  0.06691768 | -0.09956009 | -0.0379725 | -0.07286202 |  0.04578401 | -0.1070370 | -0.11182941 |  0.04027335 | -0.10638613 | ⋯ | -0.01238629 | -0.087713363 | -0.03710273 | -0.004395251 | -0.16788599 | -0.1413652 |  0.008941101 |  0.05464759 | -0.08699556 | -0.06414588 |\n| 3 |  0.003980104 |  0.09524062 |  0.05342109 | -0.0496864 | -0.01459648 |  0.32944934 |  0.5142451 | -0.04933628 |  0.06703386 | -0.05435093 | ⋯ |  0.03301526 |  0.808620531 |  1.07073115 |  0.616207360 |  0.85951603 |  0.7935060 |  0.062399295 |  0.12642222 |  0.03594162 | -0.05888141 |\n| 4 |  1.372334818 |  1.19570343 |  0.55621097 |  1.1304527 |  1.07177211 |  0.08513210 |  0.0400367 |  1.09279737 |  0.13887184 |  1.08316097 | ⋯ |  0.03690938 | -0.004723697 |  0.03497875 |  0.016201064 | -0.08381546 | -0.0861708 | -0.067312427 | -0.01611162 | -0.06891763 | -0.08795059 |\n| 5 | -0.186822093 | -0.18729427 | -0.08331351 | -0.1368072 | -0.13344819 | -0.08650052 | -0.1092056 | -0.13616893 | -0.03683671 | -0.15903307 | ⋯ | -0.02793327 | -0.179127117 | -0.21816580 | -0.177738408 | -0.16182051 | -0.1545430 | -0.085876102 | -0.06882571 | -0.08386703 | -0.10777278 |\n\n",
            "text/html": [
              "<table>\n",
              "<caption>A matrix: 5 × 36 of type dbl</caption>\n",
              "<thead>\n",
              "\t<tr><th></th><th scope=col>basketball</th><th scope=col>football</th><th scope=col>soccer</th><th scope=col>softball</th><th scope=col>volleyball</th><th scope=col>swimming</th><th scope=col>cheerleading</th><th scope=col>baseball</th><th scope=col>tennis</th><th scope=col>sports</th><th scope=col>⋯</th><th scope=col>blonde</th><th scope=col>mall</th><th scope=col>shopping</th><th scope=col>clothes</th><th scope=col>hollister</th><th scope=col>abercrombie</th><th scope=col>die</th><th scope=col>death</th><th scope=col>drunk</th><th scope=col>drugs</th></tr>\n",
              "</thead>\n",
              "<tbody>\n",
              "\t<tr><th scope=row>1</th><td> 0.362160730</td><td> 0.37985213</td><td> 0.13734997</td><td> 0.1272107</td><td> 0.09247518</td><td> 0.26180286</td><td> 0.2159945</td><td> 0.25312305</td><td> 0.11991682</td><td> 0.77040675</td><td>⋯</td><td> 0.36322464</td><td> 0.622896285</td><td> 0.27607550</td><td> 1.245121599</td><td> 0.31525537</td><td> 0.4131560</td><td> 1.712160983</td><td> 0.94713629</td><td> 1.83371069</td><td> 2.73878856</td></tr>\n",
              "\t<tr><th scope=row>2</th><td>-0.094426312</td><td> 0.06691768</td><td>-0.09956009</td><td>-0.0379725</td><td>-0.07286202</td><td> 0.04578401</td><td>-0.1070370</td><td>-0.11182941</td><td> 0.04027335</td><td>-0.10638613</td><td>⋯</td><td>-0.01238629</td><td>-0.087713363</td><td>-0.03710273</td><td>-0.004395251</td><td>-0.16788599</td><td>-0.1413652</td><td> 0.008941101</td><td> 0.05464759</td><td>-0.08699556</td><td>-0.06414588</td></tr>\n",
              "\t<tr><th scope=row>3</th><td> 0.003980104</td><td> 0.09524062</td><td> 0.05342109</td><td>-0.0496864</td><td>-0.01459648</td><td> 0.32944934</td><td> 0.5142451</td><td>-0.04933628</td><td> 0.06703386</td><td>-0.05435093</td><td>⋯</td><td> 0.03301526</td><td> 0.808620531</td><td> 1.07073115</td><td> 0.616207360</td><td> 0.85951603</td><td> 0.7935060</td><td> 0.062399295</td><td> 0.12642222</td><td> 0.03594162</td><td>-0.05888141</td></tr>\n",
              "\t<tr><th scope=row>4</th><td> 1.372334818</td><td> 1.19570343</td><td> 0.55621097</td><td> 1.1304527</td><td> 1.07177211</td><td> 0.08513210</td><td> 0.0400367</td><td> 1.09279737</td><td> 0.13887184</td><td> 1.08316097</td><td>⋯</td><td> 0.03690938</td><td>-0.004723697</td><td> 0.03497875</td><td> 0.016201064</td><td>-0.08381546</td><td>-0.0861708</td><td>-0.067312427</td><td>-0.01611162</td><td>-0.06891763</td><td>-0.08795059</td></tr>\n",
              "\t<tr><th scope=row>5</th><td>-0.186822093</td><td>-0.18729427</td><td>-0.08331351</td><td>-0.1368072</td><td>-0.13344819</td><td>-0.08650052</td><td>-0.1092056</td><td>-0.13616893</td><td>-0.03683671</td><td>-0.15903307</td><td>⋯</td><td>-0.02793327</td><td>-0.179127117</td><td>-0.21816580</td><td>-0.177738408</td><td>-0.16182051</td><td>-0.1545430</td><td>-0.085876102</td><td>-0.06882571</td><td>-0.08386703</td><td>-0.10777278</td></tr>\n",
              "</tbody>\n",
              "</table>\n"
            ]
          },
          "metadata": {
            "tags": []
          }
        }
      ]
    },
    {
      "cell_type": "markdown",
      "metadata": {
        "id": "-96e4BDNSZ-O",
        "colab_type": "text"
      },
      "source": [
        "The numbers in each row represent the average value of the cluster for the specific feature. By determining if the values are above or below zero, patterns of interest can be detected, which distinguishes one group from another. Cluster 4 has for example the highest value in the basketball column, it means that this group of students has the highest interest in basketball in average. By examining these values and finding characteristics it is possible to identify groups as for example the athletes (cluster 4) with the highest values in sport disciplines or the princesses (cluster 3) with the highest values in cheerleading and hot. And that's it, the marketing director now has his students grouped by interest and can start his individual marketing campaigns. But probably he is better off if he improves the selection of the groups upfront.\n",
        "Therefore, the clusters are applied onto the full dataset. This is fulfilled by adding the cluster component created by the *kmeans()* function as a column to the *teens* data. Now, it can be studied if the cluster fits with the individual students' characteristics."
      ]
    },
    {
      "cell_type": "code",
      "metadata": {
        "id": "ArK22wiPW4Xn",
        "colab_type": "code",
        "outputId": "e0b1cc1d-e25e-413f-b1bc-3d34e006b16a",
        "colab": {
          "base_uri": "https://localhost:8080/",
          "height": 181
        }
      },
      "source": [
        "teens$cluster <- teen_clusters$cluster\n",
        "teens[1:5, c(\"cluster\", \"gender\", \"age\", \"friends\")]"
      ],
      "execution_count": 0,
      "outputs": [
        {
          "output_type": "display_data",
          "data": {
            "text/plain": [
              "  cluster gender age    friends\n",
              "1 5       M      18.982  7     \n",
              "2 3       F      18.801  0     \n",
              "3 5       M      18.335 69     \n",
              "4 5       F      18.875  0     \n",
              "5 1       NA     18.995 10     "
            ],
            "text/latex": "A data.frame: 5 × 4\n\\begin{tabular}{r|llll}\n  & cluster & gender & age & friends\\\\\n  & <int> & <fct> & <dbl> & <int>\\\\\n\\hline\n\t1 & 5 & M  & 18.982 &  7\\\\\n\t2 & 3 & F  & 18.801 &  0\\\\\n\t3 & 5 & M  & 18.335 & 69\\\\\n\t4 & 5 & F  & 18.875 &  0\\\\\n\t5 & 1 & NA & 18.995 & 10\\\\\n\\end{tabular}\n",
            "text/markdown": "\nA data.frame: 5 × 4\n\n| <!--/--> | cluster &lt;int&gt; | gender &lt;fct&gt; | age &lt;dbl&gt; | friends &lt;int&gt; |\n|---|---|---|---|---|\n| 1 | 5 | M  | 18.982 |  7 |\n| 2 | 3 | F  | 18.801 |  0 |\n| 3 | 5 | M  | 18.335 | 69 |\n| 4 | 5 | F  | 18.875 |  0 |\n| 5 | 1 | NA | 18.995 | 10 |\n\n",
            "text/html": [
              "<table>\n",
              "<caption>A data.frame: 5 × 4</caption>\n",
              "<thead>\n",
              "\t<tr><th></th><th scope=col>cluster</th><th scope=col>gender</th><th scope=col>age</th><th scope=col>friends</th></tr>\n",
              "\t<tr><th></th><th scope=col>&lt;int&gt;</th><th scope=col>&lt;fct&gt;</th><th scope=col>&lt;dbl&gt;</th><th scope=col>&lt;int&gt;</th></tr>\n",
              "</thead>\n",
              "<tbody>\n",
              "\t<tr><th scope=row>1</th><td>5</td><td>M </td><td>18.982</td><td> 7</td></tr>\n",
              "\t<tr><th scope=row>2</th><td>3</td><td>F </td><td>18.801</td><td> 0</td></tr>\n",
              "\t<tr><th scope=row>3</th><td>5</td><td>M </td><td>18.335</td><td>69</td></tr>\n",
              "\t<tr><th scope=row>4</th><td>5</td><td>F </td><td>18.875</td><td> 0</td></tr>\n",
              "\t<tr><th scope=row>5</th><td>1</td><td>NA</td><td>18.995</td><td>10</td></tr>\n",
              "</tbody>\n",
              "</table>\n"
            ]
          },
          "metadata": {
            "tags": []
          }
        }
      ]
    },
    {
      "cell_type": "markdown",
      "metadata": {
        "id": "BkyK2JZmXGtj",
        "colab_type": "text"
      },
      "source": [
        "By employing the *aggregate()* function, the demographic characteristics can be studied as well. The mean age does not vary much between the clusters, but the proportion of females does. This proves that there are differences what females and males are mentioning on their social media and therefore in what they are interested in. Also the number of friends makes the impression that this number is related to the specific cluster as the princesses and athletes (cluster 3 and 4) enjoy a much higher popularity than the other groups."
      ]
    },
    {
      "cell_type": "code",
      "metadata": {
        "id": "mf8BRF6EYjWS",
        "colab_type": "code",
        "outputId": "17dab6c9-3020-4ff0-d72b-75d18c01c995",
        "colab": {
          "base_uri": "https://localhost:8080/",
          "height": 544
        }
      },
      "source": [
        "aggregate(data = teens, age ~ cluster, mean)\n",
        "aggregate(data = teens, female ~ cluster, mean)\n",
        "aggregate(data = teens, friends ~ cluster, mean)"
      ],
      "execution_count": 0,
      "outputs": [
        {
          "output_type": "display_data",
          "data": {
            "text/plain": [
              "  cluster age     \n",
              "1 1       17.09319\n",
              "2 2       17.38488\n",
              "3 3       17.03773\n",
              "4 4       17.03759\n",
              "5 5       17.30265"
            ],
            "text/latex": "A data.frame: 5 × 2\n\\begin{tabular}{ll}\n cluster & age\\\\\n <int> & <dbl>\\\\\n\\hline\n\t 1 & 17.09319\\\\\n\t 2 & 17.38488\\\\\n\t 3 & 17.03773\\\\\n\t 4 & 17.03759\\\\\n\t 5 & 17.30265\\\\\n\\end{tabular}\n",
            "text/markdown": "\nA data.frame: 5 × 2\n\n| cluster &lt;int&gt; | age &lt;dbl&gt; |\n|---|---|\n| 1 | 17.09319 |\n| 2 | 17.38488 |\n| 3 | 17.03773 |\n| 4 | 17.03759 |\n| 5 | 17.30265 |\n\n",
            "text/html": [
              "<table>\n",
              "<caption>A data.frame: 5 × 2</caption>\n",
              "<thead>\n",
              "\t<tr><th scope=col>cluster</th><th scope=col>age</th></tr>\n",
              "\t<tr><th scope=col>&lt;int&gt;</th><th scope=col>&lt;dbl&gt;</th></tr>\n",
              "</thead>\n",
              "<tbody>\n",
              "\t<tr><td>1</td><td>17.09319</td></tr>\n",
              "\t<tr><td>2</td><td>17.38488</td></tr>\n",
              "\t<tr><td>3</td><td>17.03773</td></tr>\n",
              "\t<tr><td>4</td><td>17.03759</td></tr>\n",
              "\t<tr><td>5</td><td>17.30265</td></tr>\n",
              "</tbody>\n",
              "</table>\n"
            ]
          },
          "metadata": {
            "tags": []
          }
        },
        {
          "output_type": "display_data",
          "data": {
            "text/plain": [
              "  cluster female   \n",
              "1 1       0.8025048\n",
              "2 2       0.7237937\n",
              "3 3       0.8866208\n",
              "4 4       0.6984421\n",
              "5 5       0.7082735"
            ],
            "text/latex": "A data.frame: 5 × 2\n\\begin{tabular}{ll}\n cluster & female\\\\\n <int> & <dbl>\\\\\n\\hline\n\t 1 & 0.8025048\\\\\n\t 2 & 0.7237937\\\\\n\t 3 & 0.8866208\\\\\n\t 4 & 0.6984421\\\\\n\t 5 & 0.7082735\\\\\n\\end{tabular}\n",
            "text/markdown": "\nA data.frame: 5 × 2\n\n| cluster &lt;int&gt; | female &lt;dbl&gt; |\n|---|---|\n| 1 | 0.8025048 |\n| 2 | 0.7237937 |\n| 3 | 0.8866208 |\n| 4 | 0.6984421 |\n| 5 | 0.7082735 |\n\n",
            "text/html": [
              "<table>\n",
              "<caption>A data.frame: 5 × 2</caption>\n",
              "<thead>\n",
              "\t<tr><th scope=col>cluster</th><th scope=col>female</th></tr>\n",
              "\t<tr><th scope=col>&lt;int&gt;</th><th scope=col>&lt;dbl&gt;</th></tr>\n",
              "</thead>\n",
              "<tbody>\n",
              "\t<tr><td>1</td><td>0.8025048</td></tr>\n",
              "\t<tr><td>2</td><td>0.7237937</td></tr>\n",
              "\t<tr><td>3</td><td>0.8866208</td></tr>\n",
              "\t<tr><td>4</td><td>0.6984421</td></tr>\n",
              "\t<tr><td>5</td><td>0.7082735</td></tr>\n",
              "</tbody>\n",
              "</table>\n"
            ]
          },
          "metadata": {
            "tags": []
          }
        },
        {
          "output_type": "display_data",
          "data": {
            "text/plain": [
              "  cluster friends \n",
              "1 1       30.66570\n",
              "2 2       32.79368\n",
              "3 3       38.54575\n",
              "4 4       35.91728\n",
              "5 5       27.79221"
            ],
            "text/latex": "A data.frame: 5 × 2\n\\begin{tabular}{ll}\n cluster & friends\\\\\n <int> & <dbl>\\\\\n\\hline\n\t 1 & 30.66570\\\\\n\t 2 & 32.79368\\\\\n\t 3 & 38.54575\\\\\n\t 4 & 35.91728\\\\\n\t 5 & 27.79221\\\\\n\\end{tabular}\n",
            "text/markdown": "\nA data.frame: 5 × 2\n\n| cluster &lt;int&gt; | friends &lt;dbl&gt; |\n|---|---|\n| 1 | 30.66570 |\n| 2 | 32.79368 |\n| 3 | 38.54575 |\n| 4 | 35.91728 |\n| 5 | 27.79221 |\n\n",
            "text/html": [
              "<table>\n",
              "<caption>A data.frame: 5 × 2</caption>\n",
              "<thead>\n",
              "\t<tr><th scope=col>cluster</th><th scope=col>friends</th></tr>\n",
              "\t<tr><th scope=col>&lt;int&gt;</th><th scope=col>&lt;dbl&gt;</th></tr>\n",
              "</thead>\n",
              "<tbody>\n",
              "\t<tr><td>1</td><td>30.66570</td></tr>\n",
              "\t<tr><td>2</td><td>32.79368</td></tr>\n",
              "\t<tr><td>3</td><td>38.54575</td></tr>\n",
              "\t<tr><td>4</td><td>35.91728</td></tr>\n",
              "\t<tr><td>5</td><td>27.79221</td></tr>\n",
              "</tbody>\n",
              "</table>\n"
            ]
          },
          "metadata": {
            "tags": []
          }
        }
      ]
    },
    {
      "cell_type": "markdown",
      "metadata": {
        "id": "oGMAZCm5Zcro",
        "colab_type": "text"
      },
      "source": [
        "These numbers prove that the allocation of students in clusters with different interests and characteristics based on their social-networking profiles worked quite well. The marketing director now can produce his targeted content specifically for one or more of these groups."
      ]
    }
  ]
}